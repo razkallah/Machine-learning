{
  "nbformat": 4,
  "nbformat_minor": 0,
  "metadata": {
    "colab": {
      "name": "detect.py",
      "provenance": [],
      "collapsed_sections": [],
      "authorship_tag": "ABX9TyP9U0LlODysqpYVX2D5mDRY",
      "include_colab_link": true
    },
    "kernelspec": {
      "name": "python3",
      "display_name": "Python 3"
    }
  },
  "cells": [
    {
      "cell_type": "markdown",
      "metadata": {
        "id": "view-in-github",
        "colab_type": "text"
      },
      "source": [
        "<a href=\"https://colab.research.google.com/github/razkallah/Machine-learning/blob/main/detect_py.ipynb\" target=\"_parent\"><img src=\"https://colab.research.google.com/assets/colab-badge.svg\" alt=\"Open In Colab\"/></a>"
      ]
    },
    {
      "cell_type": "code",
      "metadata": {
        "id": "QFBH0Y_vzdHu",
        "outputId": "be7cb510-f17f-4af0-dee2-bfe9818f4ac6",
        "colab": {
          "base_uri": "https://localhost:8080/",
          "height": 110
        }
      },
      "source": [
        "!pip install pandas "
      ],
      "execution_count": 1,
      "outputs": [
        {
          "output_type": "stream",
          "text": [
            "Requirement already satisfied: pandas in /usr/local/lib/python3.6/dist-packages (1.1.2)\n",
            "Requirement already satisfied: pytz>=2017.2 in /usr/local/lib/python3.6/dist-packages (from pandas) (2018.9)\n",
            "Requirement already satisfied: python-dateutil>=2.7.3 in /usr/local/lib/python3.6/dist-packages (from pandas) (2.8.1)\n",
            "Requirement already satisfied: numpy>=1.15.4 in /usr/local/lib/python3.6/dist-packages (from pandas) (1.18.5)\n",
            "Requirement already satisfied: six>=1.5 in /usr/local/lib/python3.6/dist-packages (from python-dateutil>=2.7.3->pandas) (1.15.0)\n"
          ],
          "name": "stdout"
        }
      ]
    },
    {
      "cell_type": "code",
      "metadata": {
        "id": "EWOeoEPf1eKn",
        "outputId": "fc34609d-1884-4a0d-ca58-45afe9a990e3",
        "colab": {
          "base_uri": "https://localhost:8080/",
          "height": 36
        }
      },
      "source": [
        "!pip install numpy"
      ],
      "execution_count": 2,
      "outputs": [
        {
          "output_type": "stream",
          "text": [
            "Requirement already satisfied: numpy in /usr/local/lib/python3.6/dist-packages (1.18.5)\n"
          ],
          "name": "stdout"
        }
      ]
    },
    {
      "cell_type": "code",
      "metadata": {
        "id": "yTow9-c82Mn1",
        "outputId": "15984b18-aa34-462b-cc47-c30de4a0cd89",
        "colab": {
          "base_uri": "https://localhost:8080/",
          "height": 110
        }
      },
      "source": [
        "!pip install sklearn"
      ],
      "execution_count": 3,
      "outputs": [
        {
          "output_type": "stream",
          "text": [
            "Requirement already satisfied: sklearn in /usr/local/lib/python3.6/dist-packages (0.0)\n",
            "Requirement already satisfied: scikit-learn in /usr/local/lib/python3.6/dist-packages (from sklearn) (0.22.2.post1)\n",
            "Requirement already satisfied: scipy>=0.17.0 in /usr/local/lib/python3.6/dist-packages (from scikit-learn->sklearn) (1.4.1)\n",
            "Requirement already satisfied: joblib>=0.11 in /usr/local/lib/python3.6/dist-packages (from scikit-learn->sklearn) (0.16.0)\n",
            "Requirement already satisfied: numpy>=1.11.0 in /usr/local/lib/python3.6/dist-packages (from scikit-learn->sklearn) (1.18.5)\n"
          ],
          "name": "stdout"
        }
      ]
    },
    {
      "cell_type": "code",
      "metadata": {
        "id": "JpbES1JX2vPO",
        "outputId": "5644e7f1-5657-483e-b7fc-af4009ce8719",
        "colab": {
          "base_uri": "https://localhost:8080/",
          "height": 1000
        }
      },
      "source": [
        "!pip install jupyterlab"
      ],
      "execution_count": 4,
      "outputs": [
        {
          "output_type": "stream",
          "text": [
            "Collecting jupyterlab\n",
            "\u001b[?25l  Downloading https://files.pythonhosted.org/packages/d7/a9/d7c904ee406d1ce320fd1d91e05111fa158e66bb217f68d070b5f58c5937/jupyterlab-2.2.8-py3-none-any.whl (7.8MB)\n",
            "\u001b[K     |████████████████████████████████| 7.8MB 2.6MB/s \n",
            "\u001b[?25hRequirement already satisfied: tornado!=6.0.0,!=6.0.1,!=6.0.2 in /usr/local/lib/python3.6/dist-packages (from jupyterlab) (5.1.1)\n",
            "Requirement already satisfied: notebook>=4.3.1 in /usr/local/lib/python3.6/dist-packages (from jupyterlab) (5.3.1)\n",
            "Requirement already satisfied: jinja2>=2.10 in /usr/local/lib/python3.6/dist-packages (from jupyterlab) (2.11.2)\n",
            "Collecting jupyterlab-server<2.0,>=1.1.5\n",
            "  Downloading https://files.pythonhosted.org/packages/b4/eb/560043dcd8376328f8b98869efed66ef68307278406ab99c7f63a34d4ae2/jupyterlab_server-1.2.0-py3-none-any.whl\n",
            "Requirement already satisfied: jupyter-core>=4.4.0 in /usr/local/lib/python3.6/dist-packages (from notebook>=4.3.1->jupyterlab) (4.6.3)\n",
            "Requirement already satisfied: traitlets>=4.2.1 in /usr/local/lib/python3.6/dist-packages (from notebook>=4.3.1->jupyterlab) (4.3.3)\n",
            "Requirement already satisfied: Send2Trash in /usr/local/lib/python3.6/dist-packages (from notebook>=4.3.1->jupyterlab) (1.5.0)\n",
            "Requirement already satisfied: jupyter-client>=5.2.0 in /usr/local/lib/python3.6/dist-packages (from notebook>=4.3.1->jupyterlab) (5.3.5)\n",
            "Requirement already satisfied: nbformat in /usr/local/lib/python3.6/dist-packages (from notebook>=4.3.1->jupyterlab) (5.0.7)\n",
            "Requirement already satisfied: ipykernel in /usr/local/lib/python3.6/dist-packages (from notebook>=4.3.1->jupyterlab) (4.10.1)\n",
            "Requirement already satisfied: terminado>=0.8.1 in /usr/local/lib/python3.6/dist-packages (from notebook>=4.3.1->jupyterlab) (0.9.1)\n",
            "Requirement already satisfied: nbconvert in /usr/local/lib/python3.6/dist-packages (from notebook>=4.3.1->jupyterlab) (5.6.1)\n",
            "Requirement already satisfied: ipython-genutils in /usr/local/lib/python3.6/dist-packages (from notebook>=4.3.1->jupyterlab) (0.2.0)\n",
            "Requirement already satisfied: MarkupSafe>=0.23 in /usr/local/lib/python3.6/dist-packages (from jinja2>=2.10->jupyterlab) (1.1.1)\n",
            "Collecting jsonschema>=3.0.1\n",
            "\u001b[?25l  Downloading https://files.pythonhosted.org/packages/c5/8f/51e89ce52a085483359217bc72cdbf6e75ee595d5b1d4b5ade40c7e018b8/jsonschema-3.2.0-py2.py3-none-any.whl (56kB)\n",
            "\u001b[K     |████████████████████████████████| 61kB 3.7MB/s \n",
            "\u001b[?25hCollecting json5\n",
            "  Downloading https://files.pythonhosted.org/packages/2b/81/22bf51a5bc60dde18bb6164fd597f18ee683de8670e141364d9c432dd3cf/json5-0.9.5-py2.py3-none-any.whl\n",
            "Requirement already satisfied: requests in /usr/local/lib/python3.6/dist-packages (from jupyterlab-server<2.0,>=1.1.5->jupyterlab) (2.23.0)\n",
            "Requirement already satisfied: decorator in /usr/local/lib/python3.6/dist-packages (from traitlets>=4.2.1->notebook>=4.3.1->jupyterlab) (4.4.2)\n",
            "Requirement already satisfied: six in /usr/local/lib/python3.6/dist-packages (from traitlets>=4.2.1->notebook>=4.3.1->jupyterlab) (1.15.0)\n",
            "Requirement already satisfied: python-dateutil>=2.1 in /usr/local/lib/python3.6/dist-packages (from jupyter-client>=5.2.0->notebook>=4.3.1->jupyterlab) (2.8.1)\n",
            "Requirement already satisfied: pyzmq>=13 in /usr/local/lib/python3.6/dist-packages (from jupyter-client>=5.2.0->notebook>=4.3.1->jupyterlab) (19.0.2)\n",
            "Requirement already satisfied: ipython>=4.0.0 in /usr/local/lib/python3.6/dist-packages (from ipykernel->notebook>=4.3.1->jupyterlab) (5.5.0)\n",
            "Requirement already satisfied: ptyprocess; os_name != \"nt\" in /usr/local/lib/python3.6/dist-packages (from terminado>=0.8.1->notebook>=4.3.1->jupyterlab) (0.6.0)\n",
            "Requirement already satisfied: mistune<2,>=0.8.1 in /usr/local/lib/python3.6/dist-packages (from nbconvert->notebook>=4.3.1->jupyterlab) (0.8.4)\n",
            "Requirement already satisfied: defusedxml in /usr/local/lib/python3.6/dist-packages (from nbconvert->notebook>=4.3.1->jupyterlab) (0.6.0)\n",
            "Requirement already satisfied: pygments in /usr/local/lib/python3.6/dist-packages (from nbconvert->notebook>=4.3.1->jupyterlab) (2.6.1)\n",
            "Requirement already satisfied: entrypoints>=0.2.2 in /usr/local/lib/python3.6/dist-packages (from nbconvert->notebook>=4.3.1->jupyterlab) (0.3)\n",
            "Requirement already satisfied: pandocfilters>=1.4.1 in /usr/local/lib/python3.6/dist-packages (from nbconvert->notebook>=4.3.1->jupyterlab) (1.4.2)\n",
            "Requirement already satisfied: testpath in /usr/local/lib/python3.6/dist-packages (from nbconvert->notebook>=4.3.1->jupyterlab) (0.4.4)\n",
            "Requirement already satisfied: bleach in /usr/local/lib/python3.6/dist-packages (from nbconvert->notebook>=4.3.1->jupyterlab) (3.2.1)\n",
            "Requirement already satisfied: attrs>=17.4.0 in /usr/local/lib/python3.6/dist-packages (from jsonschema>=3.0.1->jupyterlab-server<2.0,>=1.1.5->jupyterlab) (20.2.0)\n",
            "Requirement already satisfied: importlib-metadata; python_version < \"3.8\" in /usr/local/lib/python3.6/dist-packages (from jsonschema>=3.0.1->jupyterlab-server<2.0,>=1.1.5->jupyterlab) (2.0.0)\n",
            "Requirement already satisfied: pyrsistent>=0.14.0 in /usr/local/lib/python3.6/dist-packages (from jsonschema>=3.0.1->jupyterlab-server<2.0,>=1.1.5->jupyterlab) (0.17.3)\n",
            "Requirement already satisfied: setuptools in /usr/local/lib/python3.6/dist-packages (from jsonschema>=3.0.1->jupyterlab-server<2.0,>=1.1.5->jupyterlab) (50.3.0)\n",
            "Requirement already satisfied: idna<3,>=2.5 in /usr/local/lib/python3.6/dist-packages (from requests->jupyterlab-server<2.0,>=1.1.5->jupyterlab) (2.10)\n",
            "Requirement already satisfied: certifi>=2017.4.17 in /usr/local/lib/python3.6/dist-packages (from requests->jupyterlab-server<2.0,>=1.1.5->jupyterlab) (2020.6.20)\n",
            "Requirement already satisfied: chardet<4,>=3.0.2 in /usr/local/lib/python3.6/dist-packages (from requests->jupyterlab-server<2.0,>=1.1.5->jupyterlab) (3.0.4)\n",
            "Requirement already satisfied: urllib3!=1.25.0,!=1.25.1,<1.26,>=1.21.1 in /usr/local/lib/python3.6/dist-packages (from requests->jupyterlab-server<2.0,>=1.1.5->jupyterlab) (1.24.3)\n",
            "Requirement already satisfied: simplegeneric>0.8 in /usr/local/lib/python3.6/dist-packages (from ipython>=4.0.0->ipykernel->notebook>=4.3.1->jupyterlab) (0.8.1)\n",
            "Requirement already satisfied: prompt-toolkit<2.0.0,>=1.0.4 in /usr/local/lib/python3.6/dist-packages (from ipython>=4.0.0->ipykernel->notebook>=4.3.1->jupyterlab) (1.0.18)\n",
            "Requirement already satisfied: pickleshare in /usr/local/lib/python3.6/dist-packages (from ipython>=4.0.0->ipykernel->notebook>=4.3.1->jupyterlab) (0.7.5)\n",
            "Requirement already satisfied: pexpect; sys_platform != \"win32\" in /usr/local/lib/python3.6/dist-packages (from ipython>=4.0.0->ipykernel->notebook>=4.3.1->jupyterlab) (4.8.0)\n",
            "Requirement already satisfied: packaging in /usr/local/lib/python3.6/dist-packages (from bleach->nbconvert->notebook>=4.3.1->jupyterlab) (20.4)\n",
            "Requirement already satisfied: webencodings in /usr/local/lib/python3.6/dist-packages (from bleach->nbconvert->notebook>=4.3.1->jupyterlab) (0.5.1)\n",
            "Requirement already satisfied: zipp>=0.5 in /usr/local/lib/python3.6/dist-packages (from importlib-metadata; python_version < \"3.8\"->jsonschema>=3.0.1->jupyterlab-server<2.0,>=1.1.5->jupyterlab) (3.2.0)\n",
            "Requirement already satisfied: wcwidth in /usr/local/lib/python3.6/dist-packages (from prompt-toolkit<2.0.0,>=1.0.4->ipython>=4.0.0->ipykernel->notebook>=4.3.1->jupyterlab) (0.2.5)\n",
            "Requirement already satisfied: pyparsing>=2.0.2 in /usr/local/lib/python3.6/dist-packages (from packaging->bleach->nbconvert->notebook>=4.3.1->jupyterlab) (2.4.7)\n",
            "\u001b[31mERROR: nbclient 0.5.0 has requirement jupyter-client>=6.1.5, but you'll have jupyter-client 5.3.5 which is incompatible.\u001b[0m\n",
            "Installing collected packages: jsonschema, json5, jupyterlab-server, jupyterlab\n",
            "  Found existing installation: jsonschema 2.6.0\n",
            "    Uninstalling jsonschema-2.6.0:\n",
            "      Successfully uninstalled jsonschema-2.6.0\n",
            "Successfully installed json5-0.9.5 jsonschema-3.2.0 jupyterlab-2.2.8 jupyterlab-server-1.2.0\n"
          ],
          "name": "stdout"
        }
      ]
    },
    {
      "cell_type": "code",
      "metadata": {
        "id": "nF2Anb8Q5XxS"
      },
      "source": [
        "import numpy as np\n",
        "import pandas as pd\n",
        "import itertools\n",
        "from sklearn.model_selection import train_test_split\n",
        "from sklearn.feature_extraction.text import TfidfVectorizer\n",
        "from sklearn.linear_model import PassiveAggressiveClassifier\n",
        "from sklearn.metrics import accuracy_score, confusion_matrix"
      ],
      "execution_count": 21,
      "outputs": []
    },
    {
      "cell_type": "code",
      "metadata": {
        "id": "y3y00ZIDXdy6",
        "outputId": "20945b04-6372-42fd-bed2-dcedaeb701f4",
        "colab": {
          "base_uri": "https://localhost:8080/",
          "height": 278
        }
      },
      "source": [
        "!pip install PyDrive"
      ],
      "execution_count": 3,
      "outputs": [
        {
          "output_type": "stream",
          "text": [
            "Requirement already satisfied: PyDrive in /usr/local/lib/python3.6/dist-packages (1.3.1)\n",
            "Requirement already satisfied: PyYAML>=3.0 in /usr/local/lib/python3.6/dist-packages (from PyDrive) (3.13)\n",
            "Requirement already satisfied: google-api-python-client>=1.2 in /usr/local/lib/python3.6/dist-packages (from PyDrive) (1.7.12)\n",
            "Requirement already satisfied: oauth2client>=4.0.0 in /usr/local/lib/python3.6/dist-packages (from PyDrive) (4.1.3)\n",
            "Requirement already satisfied: google-auth>=1.4.1 in /usr/local/lib/python3.6/dist-packages (from google-api-python-client>=1.2->PyDrive) (1.17.2)\n",
            "Requirement already satisfied: google-auth-httplib2>=0.0.3 in /usr/local/lib/python3.6/dist-packages (from google-api-python-client>=1.2->PyDrive) (0.0.4)\n",
            "Requirement already satisfied: httplib2<1dev,>=0.17.0 in /usr/local/lib/python3.6/dist-packages (from google-api-python-client>=1.2->PyDrive) (0.17.4)\n",
            "Requirement already satisfied: six<2dev,>=1.6.1 in /usr/local/lib/python3.6/dist-packages (from google-api-python-client>=1.2->PyDrive) (1.15.0)\n",
            "Requirement already satisfied: uritemplate<4dev,>=3.0.0 in /usr/local/lib/python3.6/dist-packages (from google-api-python-client>=1.2->PyDrive) (3.0.1)\n",
            "Requirement already satisfied: pyasn1-modules>=0.0.5 in /usr/local/lib/python3.6/dist-packages (from oauth2client>=4.0.0->PyDrive) (0.2.8)\n",
            "Requirement already satisfied: pyasn1>=0.1.7 in /usr/local/lib/python3.6/dist-packages (from oauth2client>=4.0.0->PyDrive) (0.4.8)\n",
            "Requirement already satisfied: rsa>=3.1.4 in /usr/local/lib/python3.6/dist-packages (from oauth2client>=4.0.0->PyDrive) (4.6)\n",
            "Requirement already satisfied: setuptools>=40.3.0 in /usr/local/lib/python3.6/dist-packages (from google-auth>=1.4.1->google-api-python-client>=1.2->PyDrive) (50.3.0)\n",
            "Requirement already satisfied: cachetools<5.0,>=2.0.0 in /usr/local/lib/python3.6/dist-packages (from google-auth>=1.4.1->google-api-python-client>=1.2->PyDrive) (4.1.1)\n"
          ],
          "name": "stdout"
        }
      ]
    },
    {
      "cell_type": "code",
      "metadata": {
        "id": "ob8RmLkvXsJ3"
      },
      "source": [
        "from pydrive.auth import GoogleAuth\n",
        "from pydrive.drive import GoogleDrive\n",
        "from google.colab import auth\n",
        "from oauth2client.client import GoogleCredentials"
      ],
      "execution_count": 4,
      "outputs": []
    },
    {
      "cell_type": "code",
      "metadata": {
        "id": "atGtslq7YTto"
      },
      "source": [
        "#Authenticate and create Pydrice client\n",
        "auth.authenticate_user()\n",
        "gauth=GoogleAuth()\n",
        "gauth.credentials=GoogleCredentials.get_application_default()\n",
        "drive=GoogleDrive(gauth)"
      ],
      "execution_count": 5,
      "outputs": []
    },
    {
      "cell_type": "code",
      "metadata": {
        "id": "niIxwNJvPurL",
        "outputId": "e18fee31-0c9c-4829-80e9-4995d7881e4b",
        "colab": {
          "base_uri": "https://localhost:8080/",
          "height": 36
        }
      },
      "source": [
        "from google.colab import drive\n",
        "drive.mount('/content/drive')"
      ],
      "execution_count": 2,
      "outputs": [
        {
          "output_type": "stream",
          "text": [
            "Mounted at /content/drive\n"
          ],
          "name": "stdout"
        }
      ]
    },
    {
      "cell_type": "code",
      "metadata": {
        "id": "6wbR_W4P4K9x",
        "outputId": "da664aed-bcc4-4060-8af3-9d21ddef1b11",
        "colab": {
          "base_uri": "https://localhost:8080/",
          "height": 1000
        }
      },
      "source": [
        "!ls \"/content/drive/My Drive\"#afficher les fichiers"
      ],
      "execution_count": 4,
      "outputs": [
        {
          "output_type": "stream",
          "text": [
            "'05-Mémoire-et-processeur.pptx · version 1'\n",
            "'05-Mémoire-et-processeur.pptx · version 1.gslides'\n",
            "'15-09-2020-Exercice 2 Razkallah amina.pdf'\n",
            "'15-09-2020-Exercie 1 Razkallah Amina.pdf'\n",
            "' Acon eservices.gdoc'\n",
            "'AMINA (1).gdoc'\n",
            "'base etude stage.gsheet'\n",
            "'base etude stage.xlsx'\n",
            "'Base projet Deversement SAC _ SAF BO (1).gsheet'\n",
            "'Base projet Deversement SAC _ SAF BO (2).gsheet'\n",
            "'Base projet Deversement SAC _ SAF BO (3).gsheet'\n",
            "'Base projet Deversement SAC _ SAF BO.gsheet'\n",
            "'Base projet Deversement SAC _ SAF BO.xlsx'\n",
            "'Budget mensuel.gsheet'\n",
            "'cahier de charge :.gdoc'\n",
            " CCNA1.rar\n",
            "'CHAN V2.pdf'\n",
            "'chapitre 6.gdoc'\n",
            " charteamina.doc\n",
            "'Colab Notebooks'\n",
            "'Commentaire RAZKALLAH (2ACI)93 MIS.gdoc'\n",
            " communique_President_CNC2017.pdf\n",
            "'compte rendu Mr (1).zahidi.gdoc'\n",
            "'compte rendu Mr (2).zahidi.gdoc'\n",
            "'compte rendu Mr.zahidi (1).gdoc'\n",
            "'compte rendu Mr.zahidi.gdoc'\n",
            "'Copie de Base projet Deversement SAC _ SAF BO.gsheet'\n",
            "'Copie de cahier de charge :.gdoc'\n",
            "'copie de Razkallah Chaîne de valeur.gdoc'\n",
            "'Cours Complet (+TD)'\n",
            "'Cours (Culture )'\n",
            " Cours_Logique_1Page_Slide.pdf\n",
            " Cours-Td\n",
            " CPGE\n",
            "'cv114(1).pdf'\n",
            " cv114.gslides\n",
            "'CV (1).gdoc'\n",
            "'CV (2).gdoc'\n",
            " CV.gdoc\n",
            "'def BFS(self, s):.gdoc'\n",
            " def.py.gdoc\n",
            "'Dessin sans titre.gdraw'\n",
            " doc.ipynb.gdoc\n",
            "'Document sans titre (10).gdoc'\n",
            "'Document sans titre (11).gdoc'\n",
            "'Document sans titre (12).gdoc'\n",
            "'Document sans titre (13).gdoc'\n",
            "'Document sans titre (14).gdoc'\n",
            "'Document sans titre (15).gdoc'\n",
            "'Document sans titre (1).gdoc'\n",
            "'Document sans titre (2).gdoc'\n",
            "'Document sans titre (3).gdoc'\n",
            "'Document sans titre (4).gdoc'\n",
            "'Document sans titre (5).gdoc'\n",
            "'Document sans titre (6).gdoc'\n",
            "'Document sans titre (7).gdoc'\n",
            "'Document sans titre (8).gdoc'\n",
            "'Document sans titre (9).gdoc'\n",
            "'Document sans titre.gdoc'\n",
            "'DS - TD-DM _MP_'\n",
            "'Étude de cas.gslides'\n",
            "'Examen culture entrepreunariale_RAZKALLAH Amina_GroupeB 93 2019-2020.gdoc'\n",
            "'Examen culture entrepreunariale_RAZKALLAH Amina_GroupeB_93 2019-2020.gdoc'\n",
            "'Examen_final_Koha_RAZKALLAH_Amina 2019 2020.gdoc'\n",
            "'Examen_final__razkallah_amina SPSS 2020  (1).gdoc'\n",
            "'Examen Géo-économie 2019-2020_RAZKALLAH Amina (1).gdoc'\n",
            "'Examen Géo-économie 2019-2020_RAZKALLAH Amina.gdoc'\n",
            "'Exercices,DM Physique-PC-Etoile'\n",
            "'Feuille de calcul sans titre.gform'\n",
            "'Feuille de calcul sans titre.gsheet'\n",
            " fiche_elct1.pdf\n",
            " fiche_elct2.pdf\n",
            " fiche_elmg1.pdf\n",
            " fiche_elmg2.pdf\n",
            " fiche_elmg3.pdf\n",
            " fiche_elmg4.pdf\n",
            " fiche_meca1.pdf\n",
            " fiche_meca2.pdf\n",
            " fiche_meca3.pdf\n",
            " fiche_opt1.pdf\n",
            " fiche_opt2.pdf\n",
            " fiche_opt3.pdf\n",
            " fiche_thd1.pdf\n",
            " fiche_thd2.pdf\n",
            "'flag=True.gdoc'\n",
            "'gouvernance des si hail.gdoc'\n",
            "'Ingénieur '\n",
            "'intelligence_artificielle_examen_final_RAZKALLAH Amina.gdoc'\n",
            "'Java Rabat.pdf'\n",
            " Klub-Prepas\n",
            "'Le Km et l’intelligence collective as.gdoc'\n",
            "'Le Km et l’intelligence collective.gdoc'\n",
            "'Les exigences:.gdoc'\n",
            "'Les métiers porteurs et leurs situations     au pays.gdoc'\n",
            "'Les tours de Hanoï.gslides'\n",
            "'Maarchcourrier_Alfresco_examen_final_RAZKALLAH Amina_93 (1).gdoc'\n",
            "'Maarchcourrier_Alfresco_examen_final_RAZKALLAH Amina 93.gdoc'\n",
            "'Maarchcourrier_Alfresco_examen_final_RAZKALLAH Amina_93.gdoc'\n",
            "'Managemnt de l'\\''information stratégique_examen_final_Razkallah Amina 93 (1).gdoc'\n",
            "\"Managemnt de l'information stratégique_examen_final_Razkallah Amina 93.gdoc\"\n",
            " maze.in.gdoc\n",
            "'Motivation .gdoc'\n",
            " mpetoile.org\n",
            "'New Présentation Microsoft PowerPoint (1).gslides'\n",
            "'New Présentation Microsoft PowerPoint (1).pptx'\n",
            "'New Présentation Microsoft PowerPoint (2).gslides'\n",
            "'New Présentation Microsoft PowerPoint.gslides'\n",
            "'New Présentation Microsoft PowerPoint.pptx'\n",
            " news.csv\n",
            "'Nouveau dossier compressé.zip'\n",
            " npp.7.6.3.Installer.exe\n",
            " npp.7.6.3.Installer.x64.exe\n",
            " ordre.gdoc\n",
            "'Papport Projet SPSS.gdoc'\n",
            "'Physique-Chimie[Concours Classique]'\n",
            "'Physique du site étoile'\n",
            " physique_mp.pdf\n",
            " Physique-MP.pdf\n",
            "'Physiques Les Grandes Classiques'\n",
            " Physque-MPSI.pdf\n",
            " Posters_2018.pdf\n",
            " Posters_2018.pdf.gdoc\n",
            "'présenataion prolog.webm'\n",
            "'Présentation de prototypage.gslides'\n",
            "'Présentation motivation.gslides'\n",
            "'Présentation motivation.pptx'\n",
            "'Présentation P&S informationnels ( RAZKALLAH 93).gslides'\n",
            "'Présentation sans titre.gslides'\n",
            "'Problemes de Physique'\n",
            "'Projet_E-services_20 - (2).gdoc'\n",
            "'Projet_E-services_20 - (3).gdoc'\n",
            "'Projet_E-services_20 RAZKALLAH Amina - (2).gdoc'\n",
            "'Projet Google Science Fair.gslides'\n",
            " prolog\n",
            "'prolog presentation (1).gslides'\n",
            "'Proposition de conseil.gslides'\n",
            "'Proposition de projet.gdoc'\n",
            "'python TP4.rar'\n",
            "' RAPPORT(2ACI)RAZKALLAH 93.gdoc'\n",
            " Rapport.gdoc\n",
            "'Rapport RAZKALLAH (2ACI)93.gdoc'\n",
            " Rapport:RAZKALLAH93.gdoc\n",
            " Rapport:Zekaoui.gdoc\n",
            "'RAZKALLAH Amina.gdoc'\n",
            "'RAZKALLAH Amina_GroupeB_Examen final management et évaluation des SID (1).gdoc'\n",
            "'RAZKALLAH Amina_GroupeB_Examen final management et évaluation des SID.gdoc'\n",
            "'RAZKALLAH Amina_GroupeB_Veille stratégique_Evaluation finale.gdoc'\n",
            "'Razkallah Chaîne de valeur.gdoc'\n",
            "'Résumé RAZKALLAH1.gdoc'\n",
            "'Résumé RAZKALLAH 93.gdoc'\n",
            "'Révision 02.docx'\n",
            "'Système de Management des hôpitaux..gslides'\n",
            "'Système_expert_Examen_Final_RAZKALLAH Amina 93.gdoc'\n",
            "'Système_expert_Examen_Final_RAZKALLAH Amina_93.gdoc'\n",
            "'takki traduction.gdoc'\n",
            "'Techniques de modélisation et de knowledge management_examen_final_RAZKALLAH Amina.gdoc'\n",
            "'Théorie des Graphes.docx'\n",
            " Thumbs.db\n",
            " TP\n",
            "'TP 1_nv.pdf'\n",
            "'Travail RAZKALLAH Amina 93.gdoc'\n",
            "'Travaux pratiques'\n",
            "'WBS projet .gdoc'\n",
            "'WebCam Record'\n",
            "'WhatsApp Image 2020-09-19 at 16.59.09 (1).jpeg'\n",
            "'WhatsApp Image 2020-09-19 at 16.59.09.jpeg'\n",
            "'WhatsApp Image 2020-09-19 at 17.04.55 (1).jpeg'\n",
            "'WhatsApp Image 2020-09-19 at 17.06.00.jpeg'\n",
            "'Workflow_RAZKALLAH Amina 93.gdraw'\n"
          ],
          "name": "stdout"
        }
      ]
    },
    {
      "cell_type": "code",
      "metadata": {
        "id": "Re8BBHVm4cto"
      },
      "source": [
        "!cp \"/content/drive/My Drive/news.csv\" \"news.csv\"#copier le fichier désiré"
      ],
      "execution_count": 6,
      "outputs": []
    },
    {
      "cell_type": "code",
      "metadata": {
        "id": "r1ShcTNp4srM",
        "outputId": "4cd5d614-2f71-4fce-f946-c6f7a664294d",
        "colab": {
          "base_uri": "https://localhost:8080/",
          "height": 36
        }
      },
      "source": [
        "!ls #affifer le fichier copié"
      ],
      "execution_count": 7,
      "outputs": [
        {
          "output_type": "stream",
          "text": [
            "drive  news.csv  sample_data\n"
          ],
          "name": "stdout"
        }
      ]
    },
    {
      "cell_type": "code",
      "metadata": {
        "id": "Af-DsJ_sQMN4",
        "outputId": "21e50cf9-2649-4dac-dbac-ac76bca68096",
        "colab": {
          "base_uri": "https://localhost:8080/",
          "height": 185
        }
      },
      "source": [
        "import pandas as pd\n",
        "data=pd.read_csv(\"news.csv\")\n",
        "print(data.head())\n",
        "print(data.shape)"
      ],
      "execution_count": 9,
      "outputs": [
        {
          "output_type": "stream",
          "text": [
            "   Unnamed: 0  ... label\n",
            "0        8476  ...  FAKE\n",
            "1       10294  ...  FAKE\n",
            "2        3608  ...  REAL\n",
            "3       10142  ...  FAKE\n",
            "4         875  ...  REAL\n",
            "\n",
            "[5 rows x 4 columns]\n",
            "(6335, 4)\n"
          ],
          "name": "stdout"
        }
      ]
    },
    {
      "cell_type": "code",
      "metadata": {
        "id": "TPtVUaVO6fBu",
        "outputId": "c6bfc091-aa60-483e-819a-2bcfda743b38",
        "colab": {
          "base_uri": "https://localhost:8080/",
          "height": 129
        }
      },
      "source": [
        "#get labels\n",
        "labels=data.label\n",
        "labels.head()"
      ],
      "execution_count": 10,
      "outputs": [
        {
          "output_type": "execute_result",
          "data": {
            "text/plain": [
              "0    FAKE\n",
              "1    FAKE\n",
              "2    REAL\n",
              "3    FAKE\n",
              "4    REAL\n",
              "Name: label, dtype: object"
            ]
          },
          "metadata": {
            "tags": []
          },
          "execution_count": 10
        }
      ]
    },
    {
      "cell_type": "code",
      "metadata": {
        "id": "Q1ixiUqb64o0"
      },
      "source": [
        "\n",
        "#Split the dataset into training and testing test\n",
        "x_train,x_test,y_train,y_test=train_test_split(data['text'],labels,test_size=0.2,random_state=7)"
      ],
      "execution_count": 13,
      "outputs": []
    },
    {
      "cell_type": "code",
      "metadata": {
        "id": "LOWYdua19-YY"
      },
      "source": [
        "\n",
        "#DataFlair - Initialize a TfidfVectorizer\n",
        "tfidf_vectorizer=TfidfVectorizer(stop_words='english', max_df=0.7)\n",
        "\n",
        "#DataFlair - Fit and transform train set, transform test set\n",
        "tfidf_train=tfidf_vectorizer.fit_transform(x_train) \n",
        "tfidf_test=tfidf_vectorizer.transform(x_test)"
      ],
      "execution_count": 15,
      "outputs": []
    },
    {
      "cell_type": "code",
      "metadata": {
        "id": "n7ymYtx8AynH",
        "outputId": "5f986120-1507-4f2e-df82-20722107cb83",
        "colab": {
          "base_uri": "https://localhost:8080/",
          "height": 36
        }
      },
      "source": [
        "#DataFlair - Initialize a PassiveAggressiveClassifier\n",
        "pac=PassiveAggressiveClassifier(max_iter=50)\n",
        "pac.fit(tfidf_train,y_train)\n",
        "\n",
        "#DataFlair - Predict on the test set and calculate accuracy\n",
        "y_pred=pac.predict(tfidf_test)\n",
        "score=accuracy_score(y_test,y_pred)\n",
        "print(f'Accuracy: {round(score*100,2)}%')"
      ],
      "execution_count": 18,
      "outputs": [
        {
          "output_type": "stream",
          "text": [
            "Accuracy: 93.05%\n"
          ],
          "name": "stdout"
        }
      ]
    },
    {
      "cell_type": "code",
      "metadata": {
        "id": "2xhAF_izBmm2",
        "outputId": "c8788c0b-2e77-4b33-ce6c-dd77697a431f",
        "colab": {
          "base_uri": "https://localhost:8080/",
          "height": 54
        }
      },
      "source": [
        "#DataFlair - Build confusion matrix\n",
        "confusion_matrix(y_test,y_pred, labels=['FAKE','REAL'])"
      ],
      "execution_count": 20,
      "outputs": [
        {
          "output_type": "execute_result",
          "data": {
            "text/plain": [
              "array([[590,  48],\n",
              "       [ 40, 589]])"
            ]
          },
          "metadata": {
            "tags": []
          },
          "execution_count": 20
        }
      ]
    }
  ]
}